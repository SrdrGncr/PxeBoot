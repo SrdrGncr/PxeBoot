{
 "cells": [
  {
   "cell_type": "code",
   "execution_count": 1,
   "id": "bc5532b6-7052-42b8-93a8-90e533e9b0ee",
   "metadata": {},
   "outputs": [
    {
     "name": "stdout",
     "output_type": "stream",
     "text": [
      "Merhaba DUNYA\n"
     ]
    }
   ],
   "source": [
    "print (\"Merhaba DUNYA\")"
   ]
  },
  {
   "cell_type": "code",
   "execution_count": null,
   "id": "30ded72d-7b98-4e8e-bd19-329ae1247750",
   "metadata": {},
   "outputs": [],
   "source": []
  }
 ],
 "metadata": {
  "kernelspec": {
   "display_name": "Python 3.11 (ipykernel)",
   "language": "python",
   "name": "python3.11"
  },
  "language_info": {
   "codemirror_mode": {
    "name": "ipython",
    "version": 3
   },
   "file_extension": ".py",
   "mimetype": "text/x-python",
   "name": "python",
   "nbconvert_exporter": "python",
   "pygments_lexer": "ipython3",
   "version": "3.11.10"
  }
 },
 "nbformat": 4,
 "nbformat_minor": 5
}
